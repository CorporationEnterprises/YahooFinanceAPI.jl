{
 "metadata": {
  "language": "Julia",
  "name": ""
 },
 "nbformat": 3,
 "nbformat_minor": 0,
 "worksheets": [
  {
   "cells": [
    {
     "cell_type": "code",
     "collapsed": false,
     "input": [
      "using YahooFinanceAPI"
     ],
     "language": "python",
     "metadata": {},
     "outputs": [],
     "prompt_number": 1
    },
    {
     "cell_type": "code",
     "collapsed": false,
     "input": [
      "industryData = fetchIndustries(Sectors.Utilities)"
     ],
     "language": "python",
     "metadata": {},
     "outputs": [
      {
       "output_type": "stream",
       "stream": "stdout",
       "text": [
        "http://biz.yahoo.com/p/csv/9conameu.csv\n"
       ]
      },
      {
       "metadata": {},
       "output_type": "pyout",
       "prompt_number": 6,
       "text": [
        "6x10 Array{Any,2}:\n",
        " \"Industry\"               \u2026      \"Price To Free Cash Flow (mrq)\"\n",
        " \"Diversified Utilities\"     -122.6                             \n",
        " \"Electric Utilities\"         -42.8                             \n",
        " \"Foreign Utilities\"           14.4                             \n",
        " \"Gas Utilities\"               54.5                             \n",
        " \"Water Utilities\"        \u2026   -50.3                             "
       ]
      }
     ],
     "prompt_number": 6
    },
    {
     "cell_type": "code",
     "collapsed": false,
     "input": [
      "industryData[:,1:4]"
     ],
     "language": "python",
     "metadata": {},
     "outputs": [
      {
       "metadata": {},
       "output_type": "pyout",
       "prompt_number": 7,
       "text": [
        "6x4 Array{Any,2}:\n",
        " \"Industry\"                 \"1-Day Price Chg %\"  \"Market Cap\"    \"P/E\"\n",
        " \"Diversified Utilities\"  -0.494                 \"14284.33B\"   16.9   \n",
        " \"Electric Utilities\"      0.28                  \"4191.44B\"    15.9   \n",
        " \"Foreign Utilities\"      -0.135                 \"16.65B\"      14.8   \n",
        " \"Gas Utilities\"          -1.1                   \"1793.29B\"    20.4   \n",
        " \"Water Utilities\"        -0.773                 \"1681.90B\"    19.4   "
       ]
      }
     ],
     "prompt_number": 7
    },
    {
     "cell_type": "code",
     "collapsed": false,
     "input": [],
     "language": "python",
     "metadata": {},
     "outputs": []
    }
   ],
   "metadata": {}
  }
 ]
}