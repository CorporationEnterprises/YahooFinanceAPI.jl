{
 "metadata": {
  "language": "Julia",
  "name": ""
 },
 "nbformat": 3,
 "nbformat_minor": 0,
 "worksheets": [
  {
   "cells": [
    {
     "cell_type": "code",
     "collapsed": false,
     "input": [
      "using YahooFinanceAPI"
     ],
     "language": "python",
     "metadata": {},
     "outputs": [],
     "prompt_number": 1
    },
    {
     "cell_type": "code",
     "collapsed": false,
     "input": [
      "industryData = fetchIndustries(Sectors.Technology)"
     ],
     "language": "python",
     "metadata": {},
     "outputs": [
      {
       "output_type": "stream",
       "stream": "stdout",
       "text": [
        "http://biz.yahoo.com/p/csv/8conameu.csv\n"
       ]
      },
      {
       "metadata": {},
       "output_type": "pyout",
       "prompt_number": 3,
       "text": [
        "33x10 Array{Any,2}:\n",
        " \"Industry\"                             \u2026      \"Price To Free Cash Flow (mrq)\"\n",
        " \"Application Software\"                      49.4                             \n",
        " \"Business Software & Services\"              35.2                             \n",
        " \"Communication Equipment\"                  301.5                             \n",
        " \"Computer Based Systems\"                  -193.4                             \n",
        " \"Computer Peripherals\"                 \u2026  1021.4                             \n",
        " \"Data Storage Devices\"                      16.6                             \n",
        " \"Diversified Communication Services\"       -51.4                             \n",
        " \"Diversified Computer Systems\"              11.5                             \n",
        " \"Diversified Electronics\"                   48.1                             \n",
        " \"Healthcare Information Services\"      \u2026    93.0                             \n",
        " \"Internet Information Providers\"            91.3                             \n",
        " \"Internet Service Providers\"               -19.5                             \n",
        " \u22ee                                      \u22f1                                     \n",
        " \"Security Software & Services\"              26.0                             \n",
        " \"Semiconductor - Broad Line\"               255.8                             \n",
        " \"Semiconductor - Integrated Circuits\"     -224.3                             \n",
        " \"Semiconductor - Specialized\"               45.9                             \n",
        " \"Semiconductor Equipment & Materials\"  \u2026    54.2                             \n",
        " \"Semiconductor- Memory Chips\"               15.0                             \n",
        " \"Technical & System Software\"               29.3                             \n",
        " \"Telecom Services - Domestic\"               33.9                             \n",
        " \"Telecom Services - Foreign\"                24.3                             \n",
        " \"Wireless Communications\"              \u2026    12.0                             \n",
        " \"Information & Delivery Services\"           69.3                             \n",
        " \"Information Technology Services\"           38.2                             "
       ]
      }
     ],
     "prompt_number": 3
    },
    {
     "cell_type": "code",
     "collapsed": false,
     "input": [],
     "language": "python",
     "metadata": {},
     "outputs": []
    }
   ],
   "metadata": {}
  }
 ]
}