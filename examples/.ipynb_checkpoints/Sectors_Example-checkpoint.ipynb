{
 "metadata": {
  "language": "Julia",
  "name": ""
 },
 "nbformat": 3,
 "nbformat_minor": 0,
 "worksheets": [
  {
   "cells": [
    {
     "cell_type": "code",
     "collapsed": false,
     "input": [
      "using YahooFinanceAPI"
     ],
     "language": "python",
     "metadata": {},
     "outputs": [],
     "prompt_number": 6
    },
    {
     "cell_type": "code",
     "collapsed": false,
     "input": [
      "sortBy = MarketQuoteProperties.LongTermDebtToEquity;\n",
      "sortDir = \"u\"\n",
      "sectorInfo = fetchSectors(sortBy, sortDir);\n",
      "println(sectorInfo)"
     ],
     "language": "python",
     "metadata": {},
     "outputs": [
      {
       "output_type": "stream",
       "stream": "stdout",
       "text": [
        "Any[\""
       ]
      },
      {
       "output_type": "stream",
       "stream": "stdout",
       "text": [
        "Sectors\" \"1-Day Price Chg %\" \"Market Cap\" \"P/E\" \"ROE %\" \"Div. Yield %\" \"Debt to Equity\" \"Price to Book\" \"Net Profit Margin (mrq)\" \"Price To Free Cash Flow (mrq)\"\n",
        "    \"Basic Materials\" 1.251 \"201509.38B\" 12.805 11.916 4.034 44.232 2.01 5.7 40.985\n",
        "    \"Conglomerates\" 0.95 \"1617.14B\" 16.5 21.4 5.193 63.101 3.98 8.2 -12.1\n",
        "    \"Healthcare\" 1.176 \"63310.56B\" 47.374 13.737 2.581 92.316 19.104 13.284 -4.842\n",
        "    \"Consumer Goods\" -0.99 \"205590.78B\" 26.433 15.784 2.718 94.856 -0.254 7.712 -161.327\n",
        "    \"Financial\" 0.455 \"975557.09B\" 17.948 7.866 2.372 100.888 1.796 14.749 5.98\n",
        "    \"Industrial Goods\" 0.398 \"43928.93B\" 25.964 14.135 1.505 107.864 10.34 6.551 74.395\n",
        "    \"Services\" 0.021 \"75921.64B\" 32.389 22.111 1.655 132.33 1.711 8.285 44.61\n",
        "    \"Utilities\" -0.383 \"23411.10B\" 23.733 7.597 3.194 150.913 3.041 7.817 -118.903\n",
        "    \"Technology\" 0.56 \"132660.77B\" 17.433 26.887 3.046 193.34 -0.018 21.736 43.746]\n"
       ]
      }
     ],
     "prompt_number": 9
    },
    {
     "cell_type": "code",
     "collapsed": false,
     "input": [],
     "language": "python",
     "metadata": {},
     "outputs": []
    }
   ],
   "metadata": {}
  }
 ]
}