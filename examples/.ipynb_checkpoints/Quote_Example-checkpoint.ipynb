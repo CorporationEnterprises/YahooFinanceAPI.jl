{
 "metadata": {
  "language": "Julia",
  "name": ""
 },
 "nbformat": 3,
 "nbformat_minor": 0,
 "worksheets": [
  {
   "cells": [
    {
     "cell_type": "code",
     "collapsed": false,
     "input": [
      "using YahooFinanceAPI\n",
      "using Dates\n",
      "using PyPlot"
     ],
     "language": "python",
     "metadata": {},
     "outputs": [],
     "prompt_number": "*"
    },
    {
     "cell_type": "code",
     "collapsed": false,
     "input": [
      "# use the fetchQuotes function to pull an array of QuoteProperties for multiple company symbols simultaneously\n",
      "symList = [\"GOOG\", \"SPY\", \"AAPL\", \"ABT\"];\n",
      "propList = [QuoteProperties.Symbol,\n",
      "            QuoteProperties.Name,\n",
      "            QuoteProperties.YearLow, \n",
      "            QuoteProperties.YearHigh, \n",
      "            QuoteProperties.Open,\n",
      "    QuoteProperties.BookValuePerShare];\n",
      "q = fetchQuotes(symList, propList)"
     ],
     "language": "python",
     "metadata": {},
     "outputs": [],
     "prompt_number": "*"
    },
    {
     "cell_type": "code",
     "collapsed": false,
     "input": [
      "for i in 1:15\n",
      "    q = fetchQuotes([\"SPY\"],[QuoteProperties.])\n",
      "    println(q)\n",
      "    sleep(.1)\n",
      "end"
     ],
     "language": "python",
     "metadata": {},
     "outputs": [
      {
       "output_type": "stream",
       "stream": "stdout",
       "text": [
        "Any[\""
       ]
      },
      {
       "output_type": "stream",
       "stream": "stdout",
       "text": [
        "N/A\"]\n"
       ]
      },
      {
       "output_type": "stream",
       "stream": "stdout",
       "text": [
        "Any[\""
       ]
      },
      {
       "output_type": "stream",
       "stream": "stdout",
       "text": [
        "N/A\"]\n"
       ]
      },
      {
       "output_type": "stream",
       "stream": "stdout",
       "text": [
        "Any[\""
       ]
      },
      {
       "output_type": "stream",
       "stream": "stdout",
       "text": [
        "N/A\"]\n"
       ]
      },
      {
       "output_type": "stream",
       "stream": "stdout",
       "text": [
        "Any[\""
       ]
      },
      {
       "output_type": "stream",
       "stream": "stdout",
       "text": [
        "N/A\"]\n"
       ]
      },
      {
       "output_type": "stream",
       "stream": "stdout",
       "text": [
        "Any[\"N/A\"]\n"
       ]
      },
      {
       "output_type": "stream",
       "stream": "stdout",
       "text": [
        "Any[\""
       ]
      },
      {
       "output_type": "stream",
       "stream": "stdout",
       "text": [
        "N/A\"]\n"
       ]
      },
      {
       "output_type": "stream",
       "stream": "stdout",
       "text": [
        "Any[\""
       ]
      },
      {
       "output_type": "stream",
       "stream": "stdout",
       "text": [
        "N/A\"]\n"
       ]
      },
      {
       "output_type": "stream",
       "stream": "stdout",
       "text": [
        "Any[\""
       ]
      },
      {
       "output_type": "stream",
       "stream": "stdout",
       "text": [
        "N/A\"]\n"
       ]
      },
      {
       "output_type": "stream",
       "stream": "stdout",
       "text": [
        "Any[\""
       ]
      },
      {
       "output_type": "stream",
       "stream": "stdout",
       "text": [
        "N/A\"]\n"
       ]
      },
      {
       "output_type": "stream",
       "stream": "stdout",
       "text": [
        "Any[\""
       ]
      },
      {
       "output_type": "stream",
       "stream": "stdout",
       "text": [
        "N/A\"]\n"
       ]
      },
      {
       "output_type": "stream",
       "stream": "stdout",
       "text": [
        "Any[\""
       ]
      },
      {
       "output_type": "stream",
       "stream": "stdout",
       "text": [
        "N/A\"]\n"
       ]
      },
      {
       "output_type": "stream",
       "stream": "stdout",
       "text": [
        "Any[\"N/A\"]\n"
       ]
      },
      {
       "output_type": "stream",
       "stream": "stdout",
       "text": [
        "Any[\""
       ]
      },
      {
       "output_type": "stream",
       "stream": "stdout",
       "text": [
        "N/A\"]\n"
       ]
      },
      {
       "output_type": "stream",
       "stream": "stdout",
       "text": [
        "Any[\"N/A\"]\n"
       ]
      },
      {
       "output_type": "stream",
       "stream": "stdout",
       "text": [
        "Any[\""
       ]
      },
      {
       "output_type": "stream",
       "stream": "stdout",
       "text": [
        "N/A\"]\n"
       ]
      },
      {
       "output_type": "stream",
       "stream": "stdout",
       "text": [
        "Any[\""
       ]
      },
      {
       "output_type": "stream",
       "stream": "stdout",
       "text": [
        "N/A\"]\n"
       ]
      },
      {
       "output_type": "stream",
       "stream": "stdout",
       "text": [
        "Any[\""
       ]
      },
      {
       "output_type": "stream",
       "stream": "stdout",
       "text": [
        "N/A\"]\n"
       ]
      },
      {
       "output_type": "stream",
       "stream": "stdout",
       "text": [
        "Any[\""
       ]
      },
      {
       "output_type": "stream",
       "stream": "stdout",
       "text": [
        "N/A\"]\n"
       ]
      },
      {
       "output_type": "stream",
       "stream": "stdout",
       "text": [
        "Any[\""
       ]
      },
      {
       "output_type": "stream",
       "stream": "stdout",
       "text": [
        "N/A\"]\n"
       ]
      },
      {
       "output_type": "stream",
       "stream": "stdout",
       "text": [
        "Any[\""
       ]
      },
      {
       "output_type": "stream",
       "stream": "stdout",
       "text": [
        "N/A\"]\n"
       ]
      },
      {
       "output_type": "stream",
       "stream": "stdout",
       "text": [
        "Any[\""
       ]
      },
      {
       "output_type": "stream",
       "stream": "stdout",
       "text": [
        "N/A\"]\n"
       ]
      },
      {
       "output_type": "stream",
       "stream": "stdout",
       "text": [
        "Any[\"N/A\"]\n"
       ]
      },
      {
       "output_type": "stream",
       "stream": "stdout",
       "text": [
        "Any[\""
       ]
      },
      {
       "output_type": "stream",
       "stream": "stdout",
       "text": [
        "N/A\"]\n"
       ]
      },
      {
       "output_type": "stream",
       "stream": "stdout",
       "text": [
        "Any[\""
       ]
      },
      {
       "output_type": "stream",
       "stream": "stdout",
       "text": [
        "N/A\"]\n"
       ]
      },
      {
       "output_type": "stream",
       "stream": "stdout",
       "text": [
        "Any[\""
       ]
      },
      {
       "output_type": "stream",
       "stream": "stdout",
       "text": [
        "N/A\"]\n"
       ]
      },
      {
       "output_type": "stream",
       "stream": "stdout",
       "text": [
        "Any[\""
       ]
      },
      {
       "output_type": "stream",
       "stream": "stdout",
       "text": [
        "N/A\"]\n"
       ]
      },
      {
       "output_type": "stream",
       "stream": "stdout",
       "text": [
        "Any[\"N/A\"]\n"
       ]
      },
      {
       "output_type": "stream",
       "stream": "stdout",
       "text": [
        "Any[\""
       ]
      },
      {
       "output_type": "stream",
       "stream": "stdout",
       "text": [
        "N/A\"]\n"
       ]
      },
      {
       "output_type": "stream",
       "stream": "stdout",
       "text": [
        "Any[\""
       ]
      },
      {
       "output_type": "stream",
       "stream": "stdout",
       "text": [
        "N/A\"]\n"
       ]
      },
      {
       "output_type": "stream",
       "stream": "stdout",
       "text": [
        "Any[\""
       ]
      },
      {
       "output_type": "stream",
       "stream": "stdout",
       "text": [
        "N/A\"]\n"
       ]
      },
      {
       "output_type": "stream",
       "stream": "stdout",
       "text": [
        "Any[\""
       ]
      },
      {
       "output_type": "stream",
       "stream": "stdout",
       "text": [
        "N/A\"]\n"
       ]
      },
      {
       "output_type": "stream",
       "stream": "stdout",
       "text": [
        "Any[\""
       ]
      },
      {
       "output_type": "stream",
       "stream": "stdout",
       "text": [
        "N/A\"]\n"
       ]
      },
      {
       "output_type": "stream",
       "stream": "stdout",
       "text": [
        "Any[\""
       ]
      },
      {
       "output_type": "stream",
       "stream": "stdout",
       "text": [
        "N/A\"]\n"
       ]
      },
      {
       "output_type": "stream",
       "stream": "stdout",
       "text": [
        "Any[\""
       ]
      },
      {
       "output_type": "stream",
       "stream": "stdout",
       "text": [
        "N/A\"]\n"
       ]
      },
      {
       "output_type": "stream",
       "stream": "stdout",
       "text": [
        "Any[\""
       ]
      },
      {
       "output_type": "stream",
       "stream": "stdout",
       "text": [
        "N/A\"]\n"
       ]
      },
      {
       "output_type": "stream",
       "stream": "stdout",
       "text": [
        "Any[\""
       ]
      },
      {
       "output_type": "stream",
       "stream": "stdout",
       "text": [
        "N/A\"]\n"
       ]
      },
      {
       "output_type": "stream",
       "stream": "stdout",
       "text": [
        "Any[\""
       ]
      },
      {
       "output_type": "stream",
       "stream": "stdout",
       "text": [
        "N/A\"]\n"
       ]
      },
      {
       "output_type": "stream",
       "stream": "stdout",
       "text": [
        "Any[\"N/A\"]\n"
       ]
      },
      {
       "output_type": "stream",
       "stream": "stdout",
       "text": [
        "Any[\""
       ]
      },
      {
       "output_type": "stream",
       "stream": "stdout",
       "text": [
        "N/A\"]\n"
       ]
      },
      {
       "output_type": "stream",
       "stream": "stdout",
       "text": [
        "Any[\""
       ]
      },
      {
       "output_type": "stream",
       "stream": "stdout",
       "text": [
        "N/A\"]\n"
       ]
      },
      {
       "output_type": "stream",
       "stream": "stdout",
       "text": [
        "Any[\""
       ]
      },
      {
       "output_type": "stream",
       "stream": "stdout",
       "text": [
        "N/A\"]\n"
       ]
      },
      {
       "output_type": "stream",
       "stream": "stdout",
       "text": [
        "Any[\""
       ]
      },
      {
       "output_type": "stream",
       "stream": "stdout",
       "text": [
        "N/A\"]\n"
       ]
      },
      {
       "output_type": "stream",
       "stream": "stdout",
       "text": [
        "Any[\""
       ]
      },
      {
       "output_type": "stream",
       "stream": "stdout",
       "text": [
        "N/A\"]\n"
       ]
      },
      {
       "output_type": "stream",
       "stream": "stdout",
       "text": [
        "Any[\"N/A\"]\n"
       ]
      },
      {
       "output_type": "stream",
       "stream": "stdout",
       "text": [
        "Any[\""
       ]
      },
      {
       "output_type": "stream",
       "stream": "stdout",
       "text": [
        "N/A\"]\n"
       ]
      },
      {
       "output_type": "stream",
       "stream": "stdout",
       "text": [
        "Any[\"N/A\"]\n"
       ]
      },
      {
       "output_type": "stream",
       "stream": "stdout",
       "text": [
        "Any[\""
       ]
      },
      {
       "output_type": "stream",
       "stream": "stdout",
       "text": [
        "N/A\"]\n"
       ]
      },
      {
       "output_type": "stream",
       "stream": "stdout",
       "text": [
        "Any[\""
       ]
      },
      {
       "output_type": "stream",
       "stream": "stdout",
       "text": [
        "N/A\"]\n"
       ]
      },
      {
       "output_type": "stream",
       "stream": "stdout",
       "text": [
        "Any[\"N/A\"]\n"
       ]
      },
      {
       "output_type": "stream",
       "stream": "stdout",
       "text": [
        "Any[\""
       ]
      },
      {
       "output_type": "stream",
       "stream": "stdout",
       "text": [
        "N/A\"]\n"
       ]
      },
      {
       "output_type": "stream",
       "stream": "stdout",
       "text": [
        "Any[\""
       ]
      },
      {
       "output_type": "stream",
       "stream": "stdout",
       "text": [
        "N/A\"]\n"
       ]
      },
      {
       "output_type": "stream",
       "stream": "stdout",
       "text": [
        "Any[\""
       ]
      },
      {
       "output_type": "stream",
       "stream": "stdout",
       "text": [
        "N/A\"]\n"
       ]
      }
     ],
     "prompt_number": "*"
    },
    {
     "cell_type": "code",
     "collapsed": false,
     "input": [],
     "language": "python",
     "metadata": {},
     "outputs": [],
     "prompt_number": 7
    },
    {
     "cell_type": "code",
     "collapsed": false,
     "input": [],
     "language": "python",
     "metadata": {},
     "outputs": [],
     "prompt_number": 8
    },
    {
     "cell_type": "code",
     "collapsed": false,
     "input": [],
     "language": "python",
     "metadata": {},
     "outputs": []
    }
   ],
   "metadata": {}
  }
 ]
}