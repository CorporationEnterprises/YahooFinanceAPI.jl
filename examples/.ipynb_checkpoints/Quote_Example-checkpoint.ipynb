{
 "metadata": {
  "language": "Julia",
  "name": ""
 },
 "nbformat": 3,
 "nbformat_minor": 0,
 "worksheets": [
  {
   "cells": [
    {
     "cell_type": "code",
     "collapsed": false,
     "input": [
      "using YahooFinanceAPI\n",
      "using Dates\n"
     ],
     "language": "python",
     "metadata": {},
     "outputs": [],
     "prompt_number": 33
    },
    {
     "cell_type": "code",
     "collapsed": false,
     "input": [
      "# use the fetchQuotes function to pull an array of QuoteProperties for multiple company symbols simultaneously\n",
      "symList = [\"GOOG\", \"SPY\", \"AAPL\", \"ABT\"];\n",
      "propList = [QuoteProperties.Symbol,\n",
      "            QuoteProperties.Name,\n",
      "            QuoteProperties.YearLow, \n",
      "            QuoteProperties.YearHigh, \n",
      "            QuoteProperties.Open,\n",
      "            QuoteProperties.BookValuePerShare];\n",
      "q = fetchQuotes(symList, propList)"
     ],
     "language": "python",
     "metadata": {},
     "outputs": [
      {
       "output_type": "stream",
       "stream": "stdout",
       "text": [
        "http://download.finance.yahoo.com/d/quotes.csv?s=GOOG,SPY,AAPL,ABT&f=s0n0j0k0o0b4&e=.csv\n"
       ]
      },
      {
       "output_type": "stream",
       "stream": "stdout",
       "text": [
        "Any[\""
       ]
      },
      {
       "output_type": "stream",
       "stream": "stdout",
       "text": [
        "GOOG\" \"Google Inc.\" 487.56 604.83 543.35 153.638\n",
        "    \"SPY\" \"SPDR S&P 500\" 181.31 212.97 209.07 0.0\n",
        "    \"AAPL\" \"Apple Inc.\" 73.0471 127.48 127.27 21.167\n",
        "    \"ABT\" \"Abbott Laboratori\" 36.65 46.5 45.05 15.2]\n"
       ]
      }
     ],
     "prompt_number": 34
    },
    {
     "cell_type": "code",
     "collapsed": false,
     "input": [],
     "language": "python",
     "metadata": {},
     "outputs": [],
     "prompt_number": 26
    },
    {
     "cell_type": "code",
     "collapsed": false,
     "input": [],
     "language": "python",
     "metadata": {},
     "outputs": [],
     "prompt_number": 7
    },
    {
     "cell_type": "code",
     "collapsed": false,
     "input": [],
     "language": "python",
     "metadata": {},
     "outputs": [],
     "prompt_number": 8
    },
    {
     "cell_type": "code",
     "collapsed": false,
     "input": [],
     "language": "python",
     "metadata": {},
     "outputs": []
    }
   ],
   "metadata": {}
  }
 ]
}