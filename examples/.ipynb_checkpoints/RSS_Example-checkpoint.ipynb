{
 "metadata": {
  "language": "Julia",
  "name": ""
 },
 "nbformat": 3,
 "nbformat_minor": 0,
 "worksheets": [
  {
   "cells": [
    {
     "cell_type": "code",
     "collapsed": false,
     "input": [
      "using YahooFinanceAPI\n",
      "using Gumbo"
     ],
     "language": "python",
     "metadata": {},
     "outputs": [],
     "prompt_number": 1
    },
    {
     "cell_type": "code",
     "collapsed": false,
     "input": [
      "sym = \"^GSPC\"\n",
      "articles = fetchRSS(sym,Localization.UnitedStates_English)"
     ],
     "language": "python",
     "metadata": {},
     "outputs": [
      {
       "metadata": {},
       "output_type": "pyout",
       "prompt_number": 5,
       "text": [
        "20-element Array{Any,1}:\n",
        " (\"Act As If / Current Market View\",\"http://us.rd.yahoo.com/finance/news/rss/story/*http://finance.yahoo.com/tumblr/blog-act-as-if-current-market-view-175241230.html\")                                                                                   \n",
        " (\"Europe is a mess. Should American investors buy now?\",\"http://us.rd.yahoo.com/finance/news/rss/story/*http://finance.yahoo.com/news/europe-mess-american-investors-buy-142900855.html\")                                                                \n",
        " (\"Breakout or Fake Out In Stocks?\",\"http://us.rd.yahoo.com/finance/news/rss/story/*http://finance.yahoo.com/tumblr/video-breakout-or-fake-out-in-stocks-132417818.html\")                                                                                 \n",
        " (\"Business Highlights\",\"http://us.rd.yahoo.com/finance/news/rss/story/*http://finance.yahoo.com/news/business-highlights-220254366.html\")                                                                                                                \n",
        " (\"Bull is back: S&P 500 closes at record high, Dow tops 18,000\",\"http://us.rd.yahoo.com/finance/external/xusatoday/rss/SIG=12g5m8e0b/*http://www.usatoday.com/story/money/markets/2015/02/13/stocks-friday/23343407/\")                                   \n",
        " (\"Europe vs. US\",\"http://us.rd.yahoo.com/finance/news/rss/story/*http://finance.yahoo.com/video/europe-vs-us-220100770.html\")                                                                                                                            \n",
        " (\"The bears are running scared\",\"http://us.rd.yahoo.com/finance/news/rss/story/*http://finance.yahoo.com/blogs/talking-numbers/the-bears-are-running-scared-213407259.html\")                                                                             \n",
        " (\"Dow closes above 18,000 for first time this year\",\"http://us.rd.yahoo.com/finance/external/cbsm/rss/SIG=11iiumket/*http://www.marketwatch.com/News/Story/Story.aspx?guid=25623F6A-B362-11E4-90D7-30413F835A74&siteid=yhoof2\")                          \n",
        " (\"Candy Crush vs. Words with Friends: Wall Street's choice is clear\",\"http://us.rd.yahoo.com/finance/external/cnnm/rss/SIG=12k648f1u/*http://money.cnn.com/2015/02/13/investing/candy-crush-king-zynga-stocks/index.html?source=yahoo_quote\")            \n",
        " (\"Gartman: Stock trend to the upper right\",\"http://us.rd.yahoo.com/finance/news/rss/story/*http://finance.yahoo.com/video/gartman-stock-trend-upper-211400884.html\")                                                                                     \n",
        " (\"STOCKS HIT ALL-TIME HIGHS: Here's what you need to know\",\"http://us.rd.yahoo.com/finance/news/rss/story/*http://finance.yahoo.com/news/stocks-hit-time-highs-heres-210030191.html\")                                                                    \n",
        " (\"The Street's favorite S&P 500 stocks for 2015\",\"http://us.rd.yahoo.com/finance/external/cnbc/rss/SIG=112389m4c/*http://www.cnbc.com/id/102425095?__source=yahoo%7cfinance%7cheadline%7cheadline%7cstory&par=yahoo&doc=102425095\")                      \n",
        " (\"Closing Bell Exchange: Year of growth?\",\"http://us.rd.yahoo.com/finance/news/rss/story/*http://finance.yahoo.com/video/closing-bell-exchange-growth-200100901.html\")                                                                                   \n",
        " (\"Fed courts the GOP\",\"http://us.rd.yahoo.com/finance/news/rss/story/*http://finance.yahoo.com/video/fed-courts-gop-200100149.html\")                                                                                                                     \n",
        " (\"Can bulls rebuild before close?\",\"http://us.rd.yahoo.com/finance/news/rss/story/*http://finance.yahoo.com/video/bulls-rebuild-close-185000658.html\")                                                                                                   \n",
        " (\"S&P 500 hits new all-time high; Dow crosses 18,000; What to watch next week\",\"http://us.rd.yahoo.com/finance/news/rss/story/*http://finance.yahoo.com/news/s-p-500-hits-new-all-time-high--dow-crosses-18-000--what-to-watch-next-week-162424854.html\")\n",
        " (\"Stock pro waves American flag\",\"http://us.rd.yahoo.com/finance/news/rss/story/*http://finance.yahoo.com/video/stock-pro-waves-american-flag-180500554.html\")                                                                                           \n",
        " (\"Sizing Up the Next Big Moves in the Market\",\"http://us.rd.yahoo.com/finance/news/rss/story/*http://finance.yahoo.com/tumblr/blog-sizing-up-the-next-big-moves-in-the-market-174954220.html\")                                                           \n",
        " (\"Key Market Gauge Hits All-Time High\",\"http://us.rd.yahoo.com/finance/news/rss/story/*http://finance.yahoo.com/tumblr/blog-key-market-gauge-hits-all-time-high-173616323.html\")                                                                         \n",
        " (\"Why chart watchers are worried about U.S. stocks\",\"http://us.rd.yahoo.com/finance/external/cbsm/rss/SIG=11iiumket/*http://www.marketwatch.com/News/Story/Story.aspx?guid=A2A6EBE8-B393-11E4-AD98-38C86BB16A75&siteid=yhoof2\")                          "
       ]
      }
     ],
     "prompt_number": 5
    },
    {
     "cell_type": "code",
     "collapsed": false,
     "input": [],
     "language": "python",
     "metadata": {},
     "outputs": [],
     "prompt_number": 30
    },
    {
     "cell_type": "code",
     "collapsed": false,
     "input": [],
     "language": "python",
     "metadata": {},
     "outputs": [],
     "prompt_number": 31
    },
    {
     "cell_type": "code",
     "collapsed": false,
     "input": [],
     "language": "python",
     "metadata": {},
     "outputs": [],
     "prompt_number": 32
    },
    {
     "cell_type": "code",
     "collapsed": false,
     "input": [],
     "language": "python",
     "metadata": {},
     "outputs": [],
     "prompt_number": 33
    },
    {
     "cell_type": "code",
     "collapsed": false,
     "input": [],
     "language": "python",
     "metadata": {},
     "outputs": [],
     "prompt_number": 34
    },
    {
     "cell_type": "code",
     "collapsed": false,
     "input": [],
     "language": "python",
     "metadata": {},
     "outputs": []
    }
   ],
   "metadata": {}
  }
 ]
}