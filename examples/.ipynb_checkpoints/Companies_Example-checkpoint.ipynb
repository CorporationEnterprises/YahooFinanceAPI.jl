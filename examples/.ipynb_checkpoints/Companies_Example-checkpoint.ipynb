{
 "metadata": {
  "language": "Julia",
  "name": ""
 },
 "nbformat": 3,
 "nbformat_minor": 0,
 "worksheets": [
  {
   "cells": [
    {
     "cell_type": "code",
     "collapsed": false,
     "input": [
      "using YahooFinanceAPI"
     ],
     "language": "python",
     "metadata": {},
     "outputs": [],
     "prompt_number": 1
    },
    {
     "cell_type": "code",
     "collapsed": false,
     "input": [
      "companies = fetchCompanies(IndustryCodes.Aluminum);\n",
      "println(companies)"
     ],
     "language": "python",
     "metadata": {},
     "outputs": [
      {
       "output_type": "stream",
       "stream": "stdout",
       "text": [
        "http://biz.yahoo.com/p/csv/132conameu.csv\n"
       ]
      },
      {
       "output_type": "stream",
       "stream": "stdout",
       "text": [
        "Any[\""
       ]
      },
      {
       "output_type": "stream",
       "stream": "stdout",
       "text": [
        "Description\" \"1-Day Price Chg %\" \"Market Cap\" \"P/E\" \"ROE %\" \"Div. Yield %\" \"Debt to Equity\" \"Price to Book\" \"Net Profit Margin (mrq)\" \"Price To Free Cash Flow (mrq)\"\n",
        "    \"Basic Materials\" 1.251 \"201509.38B\" 12.805 11.916 4.034 44.232 2.01 5.7 40.985\n",
        "    \"Aluminum\" 0.167 \"1287.87B\" 0.0 -10.5 0.57 80.594 1.9 -3.8 188.1\n",
        "    \"AEI Corp Ltd\" \"NA\" \"NA\" \"NA\" -2.991 \"NA\" 4.618 \"NA\" -13.625 \"NA\"\n",
        "    \"Alcoa Inc\" \"NA\" \"NA\" \"NA\" 1.249 \"NA\" 59.758 \"NA\" 2.493 \"NA\"\n",
        "    \"Alcoa Inc\" 0.28 \"286.72B\" 1122.19 1.249 \"NA\" 59.758 23.386 2.493 481.779\n",
        "    \"Alcoa Inc\" \"NA\" \"NA\" \"NA\" 1.249 \"NA\" 59.758 \"NA\" 2.493 \"NA\"\n",
        "    \"Alcoa Inc\" \"NA\" \"NA\" \"NA\" 1.249 \"NA\" 59.758 \"NA\" 2.493 \"NA\"\n",
        "    \"Alcoa Inc.\" 1.02 \"19.24B\" 75.286 1.249 0.8 59.758 1.569 2.493 32.322\n",
        "    \"Aluar Aluminio Argentino\" 0.65 \"23.25B\" 19.829 21.624 \"NA\" 19.01 3.511 15.396 47.21\n",
        "    \"Alumeco India Extrusion Ltd\" -4.88 \"51.81M\" 7.573 \"NA\" \"NA\" \"NA\" \"NA\" \"NA\" \"NA\"\n",
        "    \"Alumina Ltd\" 3.33 \"5.22B\" \"NA\" -1.541 \"NA\" 4.692 1.813 \"NA\" -1227.92\n",
        "    \"Alumina Ltd\" \"NA\" \"NA\" \"NA\" -1.541 \"NA\" 4.692 \"NA\" \"NA\" \"NA\"\n",
        "    \"Alumina Ltd\" \"NA\" \"NA\" \"NA\" -1.541 \"NA\" 4.692 \"NA\" \"NA\" \"NA\"\n",
        "    \"Aluminum Corporation\" 3.12 \"49.25B\" \"NA\" -5.374 \"NA\" 204.154 7.862 -3.714 35.491\n",
        "    \"Aluminum Corporation\" \"NA\" \"NA\" \"NA\" -5.374 \"NA\" 204.154 \"NA\" -3.714 \"NA\"\n",
        "    \"Aluminum Corporation\" \"NA\" \"NA\" \"NA\" -5.374 \"NA\" 204.154 \"NA\" -3.714 \"NA\"\n",
        "    \"Aluminum Corporation\" \"NA\" \"NA\" \"NA\" -5.374 \"NA\" 204.154 \"NA\" -3.714 \"NA\"\n",
        "    \"Aluminum Corporation\" \"NA\" \"NA\" \"NA\" -5.374 \"NA\" 204.154 \"NA\" -3.714 \"NA\"\n",
        "    \"Aluminum Corporation Of China\" 0.95 \"6.33B\" \"NA\" -5.374 0.0 204.154 1.01 -3.714 4.559\n",
        "    \"Anglo Aluminum Corporation\" \"NA\" \"NA\" \"NA\" \"NA\" \"NA\" \"NA\" \"NA\" \"NA\" \"NA\"\n",
        "    \"Australian Bauxite Ltd\" 0.0 \"36.83M\" \"NA\" -20.529 \"NA\" \"NA\" 2.377 \"NA\" -71.098\n",
        "    \"Australian Bauxite Ltd\" \"NA\" \"NA\" \"NA\" -20.529 \"NA\" \"NA\" \"NA\" \"NA\" \"NA\"\n",
        "    \"Bauxite Resources Ltd\" \"NA\" \"NA\" \"NA\" -9.22 \"NA\" \"NA\" \"NA\" \"NA\" \"NA\"\n",
        "    \"Bauxite Resources Ltd\" 0.0 \"20.87M\" \"NA\" -9.22 \"NA\" \"NA\" 0.443 \"NA\" -30.445\n",
        "    \"Bhoruka Aluminium Ltd\" 8.22 \"43.40M\" 0.324 93.087 \"NA\" \"NA\" 0.206 -103.954 \"NA\"\n",
        "    \"Capral Ltd\" 0.0 \"56.96M\" \"NA\" -1.227 \"NA\" 7.078 0.529 -1.19 212.347\n",
        "    \"Century Aluminum Co\" \"NA\" \"NA\" \"NA\" 4.057 \"NA\" 24.149 \"NA\" 10.068 \"NA\"\n",
        "    \"Century Aluminum Co.\" -0.73 \"2.05B\" 55.663 4.057 0.0 24.149 1.949 10.068 40.06\n",
        "    \"Century Extrusions Ltd\" -2.94 \"132.79M\" 11.074 \"NA\" \"NA\" 84.189 0.343 1.814 \"NA\"\n",
        "    \"Century Extrusions Ltd\" \"NA\" \"NA\" \"NA\" \"NA\" \"NA\" 84.189 \"NA\" 1.814 \"NA\"\n",
        "    \"China Haida Ltd\" \"NA\" \"NA\" \"NA\" -4.427 \"NA\" 8.528 \"NA\" 1.572 \"NA\"\n",
        "    \"China Haida Ltd\" \"NA\" \"NA\" \"NA\" -4.427 \"NA\" 8.528 \"NA\" 1.572 \"NA\"\n",
        "    \"China Zhongwang\" -0.32 \"16.81B\" 50.161 \"NA\" \"NA\" 73.752 4.488 15.615 \"NA\"\n",
        "    \"China Zhongwang Holdings Ltd\" \"NA\" \"NA\" \"NA\" \"NA\" \"NA\" 73.752 \"NA\" 15.615 \"NA\"\n",
        "    \"CNNC International Ltd.\" -0.31 \"1.56B\" \"NA\" -8.427 \"NA\" 0.268 1.756 -11.717 354.406\n",
        "    \"COIL NV\" \"NA\" \"NA\" \"NA\" 2.259 \"NA\" 59.861 \"NA\" 15.125 \"NA\"\n",
        "    \"Elval Hellenic Aluminium\" \"NA\" \"NA\" \"NA\" 0.515 \"NA\" 45.327 \"NA\" 1.986 \"NA\"\n",
        "    \"Galada Power\" 3.7 \"210.05M\" 0.257 \"NA\" \"NA\" \"NA\" \"NA\" 4890.0 \"NA\"\n",
        "    \"Gujarat Foils Ltd\" 0.41 \"602.02M\" 5.298 \"NA\" \"NA\" 182.854 0.604 2.24 \"NA\"\n",
        "    \"Hind Aluminium Industries Ltd\" -3.06 \"319.73M\" 5.452 \"NA\" \"NA\" \"NA\" 0.557 1.571 \"NA\"\n",
        "    \"Hindalco Industries Ltd\" 0.43 \"316.91B\" 14.072 5.524 \"NA\" 65.989 0.78 14.299 -93.021\n",
        "    \"Hindalco Industries Ltd\" 0.49 \"317.02B\" 14.077 5.524 \"NA\" 65.989 0.781 14.299 -93.051\n",
        "    \"Hulamin Ltd\" \"NA\" \"NA\" \"NA\" -30.727 \"NA\" 12.018 \"NA\" 3.198 \"NA\"\n",
        "    \"Kaiser Aluminum Corp\" \"NA\" \"NA\" \"NA\" 7.605 \"NA\" 36.522 \"NA\" 4.692 \"NA\"\n",
        "    \"Kaiser Aluminum Corporation\" 0.19 \"1.27B\" 16.178 7.605 2.2 36.522 1.156 4.692 88.574\n",
        "    \"LH Group Ltd\" \"NA\" \"0.00M\" 0.0 13.266 \"NA\" 1.765 0.0 5.986 0.0\n",
        "    \"Maan Aluminium Ltd\" \"NA\" \"NA\" \"NA\" \"NA\" \"NA\" \"NA\" \"NA\" 0.298 \"NA\"\n",
        "    \"Maan Aluminium Ltd\" \"NA\" \"NA\" \"NA\" \"NA\" \"NA\" \"NA\" \"NA\" 0.298 \"NA\"\n",
        "    \"MHM Metals Ltd\" \"NA\" \"NA\" \"NA\" -63.671 \"NA\" \"NA\" \"NA\" -120.616 \"NA\"\n",
        "    \"MHM Metals Ltd\" 0.0 \"2.60M\" \"NA\" -63.671 \"NA\" \"NA\" 0.351 -120.616 -13.368\n",
        "    \"Midas Holdings Limited\" 1.5 \"2.47B\" 338.333 1.159 \"NA\" 126.882 5.245 0.453 -94.734\n",
        "    \"Midas Holdings Ltd\" -3.03 \"389.64M\" 53.333 1.159 \"NA\" 126.882 0.827 0.453 -14.933\n",
        "    \"Midas Holdings Ltd\" \"NA\" \"NA\" \"NA\" 1.159 \"NA\" 126.882 \"NA\" 0.453 \"NA\"\n",
        "    \"National Aluminium\" -2.31 \"124.96B\" 10.999 \"NA\" \"NA\" \"NA\" 0.987 18.887 \"NA\"\n",
        "    \"National Aluminium Co Ltd\" \"NA\" \"NA\" \"NA\" \"NA\" \"NA\" \"NA\" \"NA\" 18.887 \"NA\"\n",
        "    \"Nirav Commercials Ltd\" 4.97 \"92.79M\" 25.288 \"NA\" \"NA\" 0.932 0.927 1.855 \"NA\"\n",
        "    \"Noranda Aluminum Holding Corp\" \"NA\" \"NA\" \"NA\" -37.751 \"NA\" 542.717 \"NA\" -1.079 \"NA\"\n",
        "    \"Noranda Aluminum Holding Corp.\" 0.29 \"241.73M\" \"NA\" -37.751 1.1 542.717 2.081 -1.079 21.607\n",
        "    \"Norsk Hydro ASA\" \"NA\" \"NA\" \"NA\" 1.584 \"NA\" 13.969 \"NA\" -1.709 \"NA\"\n",
        "    \"Norsk Hydro ASA\" 2.8 \"9.00B\" 86.471 1.584 \"NA\" 13.969 0.933 -1.709 272.801\n",
        "    \"Norsk Hydro ASA\" \"NA\" \"NA\" \"NA\" 1.584 \"NA\" 13.969 \"NA\" -1.709 \"NA\"\n",
        "    \"Ocean Grand Holdings, Ltd.\" 8.53 \"2.31B\" \"NA\" -3.606 \"NA\" \"NA\" 15.73 3.175 3214.75\n",
        "    \"Orbite Aluminae Inc\" 0.0 \"86.72M\" \"NA\" -19.122 \"NA\" 26.629 0.841 \"NA\" -11.094\n",
        "    \"PG Foils Ltd\" -2.58 \"350.30M\" 4.441 8.679 \"NA\" 77.356 0.366 1.957 \"NA\"\n",
        "    \"Realm Resources Ltd\" \"NA\" \"NA\" \"NA\" -11.663 \"NA\" 9.165 \"NA\" -24.406 \"NA\"\n",
        "    \"Sacheta Metals Ltd\" 0.61 \"306.57M\" 57.517 \"NA\" \"NA\" \"NA\" 1.129 0.055 \"NA\"\n",
        "    \"Soon Lian Holdings Ltd\" \"NA\" \"NA\" \"NA\" 41.886 \"NA\" 52.48 \"NA\" 3.239 \"NA\"\n",
        "    \"Sudal Industries Ltd\" 0.0 \"94.18M\" \"NA\" -6.388 \"NA\" 111.37 0.344 -8.76 \"NA\"\n",
        "    \"Synthiko Foils Ltd\" -1.98 \"27.61M\" 7.699 13.886 \"NA\" 165.88 0.999 2.199 \"NA\"\n",
        "    \"United Co Rusal PLC\" \"NA\" \"NA\" \"NA\" -37.51 \"NA\" 207.585 \"NA\" 8.882 \"NA\"\n",
        "    \"United Co Rusal PLC\" \"NA\" \"NA\" \"NA\" -37.51 \"NA\" 207.585 \"NA\" 8.882 \"NA\"\n",
        "    \"United Co Rusal PLC\" \"NA\" \"NA\" \"NA\" -37.51 \"NA\" 207.585 \"NA\" 8.882 \"NA\"\n",
        "    \"United Company Rusal PLC\" -1.34 \"89.46B\" \"NA\" -37.51 \"NA\" 207.585 18.067 8.882 181.145\n",
        "    \"XinRen Aluminum Holdings Ltd\" \"NA\" \"NA\" \"NA\" 14.099 \"NA\" 182.262 \"NA\" 4.46 \"NA\"]\n"
       ]
      }
     ],
     "prompt_number": 4
    },
    {
     "cell_type": "code",
     "collapsed": false,
     "input": [],
     "language": "python",
     "metadata": {},
     "outputs": []
    }
   ],
   "metadata": {}
  }
 ]
}