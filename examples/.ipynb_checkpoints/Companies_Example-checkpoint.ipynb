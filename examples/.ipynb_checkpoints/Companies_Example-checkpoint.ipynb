{
 "metadata": {
  "language": "Julia",
  "name": ""
 },
 "nbformat": 3,
 "nbformat_minor": 0,
 "worksheets": [
  {
   "cells": [
    {
     "cell_type": "code",
     "collapsed": false,
     "input": [
      "using YahooFinanceAPI"
     ],
     "language": "python",
     "metadata": {},
     "outputs": [],
     "prompt_number": 2
    },
    {
     "cell_type": "code",
     "collapsed": false,
     "input": [
      "companies = fetchCompanies(IndustryCodes.Sporting_Goods);\n",
      "println(companies[:,1:4])"
     ],
     "language": "python",
     "metadata": {},
     "outputs": [
      {
       "output_type": "stream",
       "stream": "stdout",
       "text": [
        "http://biz.yahoo.com/p/csv/316conameu.csv\n"
       ]
      },
      {
       "output_type": "stream",
       "stream": "stdout",
       "text": [
        "Any[\"Description\" \"1-Day Price Chg %\" \"Market Cap\" \"P/E\"\n",
        "    \"Consumer Goods\" -2.991 \"2432498.04B\" 14.151\n",
        "    \"Sporting Goods\" 1.278 \"9.20B\" 28.0\n",
        "    \"Black Diamond, Inc.\" -3.03 \"230.98M\" 17.537\n",
        "    \"Callaway Golf Co.\" 0.36 \"666.40M\" 117.778\n",
        "    \"CannaSys, Inc.\" 0.0 \"3.33M\" \"NA\"\n",
        "    \"Escalade Inc.\" 1.64 \"254.16M\" 10.471\n",
        "    \"Johnson Outdoors Inc.\" 1.16 \"220.79M\" 25.574\n",
        "    \"Nautilus Inc.\" -3.82 \"484.96M\" 18.905\n",
        "    \"Pool Corp.\" 1.6 \"3.10B\" 27.007\n",
        "    \"Sportsman's Warehouse Holdings\" 0.0 \"577.96M\" 30.937\n",
        "    \"SPY Inc.\" 0.0 \"6.05M\" \"NA\"\n",
        "    \"Vista Outdoor Inc.\" 2.66 \""
       ]
      },
      {
       "output_type": "stream",
       "stream": "stdout",
       "text": [
        "2.98B\" 41.479]\n"
       ]
      }
     ],
     "prompt_number": 5
    },
    {
     "cell_type": "code",
     "collapsed": false,
     "input": [],
     "language": "python",
     "metadata": {},
     "outputs": []
    }
   ],
   "metadata": {}
  }
 ]
}