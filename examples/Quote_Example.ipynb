{
 "metadata": {
  "language": "Julia",
  "name": ""
 },
 "nbformat": 3,
 "nbformat_minor": 0,
 "worksheets": [
  {
   "cells": [
    {
     "cell_type": "code",
     "collapsed": false,
     "input": [
      "using YahooFinanceAPI\n",
      "using Dates\n",
      "using PyPlot"
     ],
     "language": "python",
     "metadata": {},
     "outputs": [
      {
       "output_type": "stream",
       "stream": "stderr",
       "text": [
        "INFO: Loading help data...\n"
       ]
      }
     ],
     "prompt_number": 1
    },
    {
     "cell_type": "code",
     "collapsed": false,
     "input": [
      "# use the fetchQuotes function to pull an array of QuoteProperties for multiple company symbols simultaneously\n",
      "symList = [\"GOOG\"];\n",
      "propList = [QuoteProperties.Name];\n",
      "q = fetchQuotes(symList, propList)"
     ],
     "language": "python",
     "metadata": {},
     "outputs": [
      {
       "metadata": {},
       "output_type": "pyout",
       "prompt_number": 5,
       "text": [
        "1x1 Array{Any,2}:\n",
        " \"N/A\""
       ]
      }
     ],
     "prompt_number": 5
    },
    {
     "cell_type": "code",
     "collapsed": false,
     "input": [
      "for i in 1:15\n",
      "    q = fetchQuotes([\"GOOG\",\"AAPL\"],[QuoteProperties.LastTradePriceOnly, QuoteProperties.LastTradeSize,QuoteProperties.LastTradeTime]);\n",
      "    println(q)\n",
      "    sleep(.1)\n",
      "end"
     ],
     "language": "python",
     "metadata": {},
     "outputs": [
      {
       "output_type": "stream",
       "stream": "stdout",
       "text": [
        "Any[525"
       ]
      },
      {
       "output_type": "stream",
       "stream": "stdout",
       "text": [
        ".71 100.0 \"3:35pm\"\n",
        "    125.67 100.0 \"3:35pm\"]\n"
       ]
      },
      {
       "output_type": "stream",
       "stream": "stdout",
       "text": [
        "Any[525.71 100.0 \"3:35pm\"\n",
        "    125.67 100.0 \"3:35pm\"]\n"
       ]
      },
      {
       "output_type": "stream",
       "stream": "stdout",
       "text": [
        "Any[525"
       ]
      },
      {
       "output_type": "stream",
       "stream": "stdout",
       "text": [
        ".71 100.0 \"3:35pm\"\n",
        "    125.67 100.0 \"3:35pm\"]\n"
       ]
      },
      {
       "output_type": "stream",
       "stream": "stdout",
       "text": [
        "Any[525"
       ]
      },
      {
       "output_type": "stream",
       "stream": "stdout",
       "text": [
        ".71 100.0 \"3:35pm\"\n",
        "    125.666 100.0 \"3:35pm\"]\n"
       ]
      },
      {
       "output_type": "stream",
       "stream": "stdout",
       "text": [
        "Any[525"
       ]
      },
      {
       "output_type": "stream",
       "stream": "stdout",
       "text": [
        ".71 100.0 \"3:35pm\"\n",
        "    125.68 100.0 \"3:35pm\"]\n"
       ]
      },
      {
       "output_type": "stream",
       "stream": "stdout",
       "text": [
        "Any[525"
       ]
      },
      {
       "output_type": "stream",
       "stream": "stdout",
       "text": [
        ".71 100.0 \"3:35pm\"\n",
        "    125.68 100.0 \"3:35pm\"]\n"
       ]
      },
      {
       "output_type": "stream",
       "stream": "stdout",
       "text": [
        "Any[525"
       ]
      },
      {
       "output_type": "stream",
       "stream": "stdout",
       "text": [
        ".71 100.0 \"3:35pm\"\n",
        "    125.68 100.0 \"3:35pm\"]\n"
       ]
      },
      {
       "output_type": "stream",
       "stream": "stdout",
       "text": [
        "Any[525"
       ]
      },
      {
       "output_type": "stream",
       "stream": "stdout",
       "text": [
        ".71 100.0 \"3:35pm\"\n",
        "    125.68 100.0 \"3:35pm\"]\n"
       ]
      },
      {
       "output_type": "stream",
       "stream": "stdout",
       "text": [
        "Any[525.71 100.0 \"3:35pm\"\n",
        "    125.68 100.0 \"3:35pm\"]\n"
       ]
      },
      {
       "output_type": "stream",
       "stream": "stdout",
       "text": [
        "Any[525"
       ]
      },
      {
       "output_type": "stream",
       "stream": "stdout",
       "text": [
        ".71 100.0 \"3:35pm\"\n",
        "    125.68 100.0 \"3:35pm\"]\n"
       ]
      },
      {
       "output_type": "stream",
       "stream": "stdout",
       "text": [
        "Any[525"
       ]
      },
      {
       "output_type": "stream",
       "stream": "stdout",
       "text": [
        ".71 100.0 \"3:35pm\"\n",
        "    125.68 100.0 \"3:35pm\"]\n"
       ]
      },
      {
       "output_type": "stream",
       "stream": "stdout",
       "text": [
        "Any[525.71 100.0 \"3:35pm\"\n",
        "    125.68 100.0 \"3:35pm\"]\n"
       ]
      },
      {
       "output_type": "stream",
       "stream": "stdout",
       "text": [
        "Any[525"
       ]
      },
      {
       "output_type": "stream",
       "stream": "stdout",
       "text": [
        ".84 100.0 \"3:35pm\"\n",
        "    125.67 100.0 \"3:35pm\"]\n"
       ]
      },
      {
       "output_type": "stream",
       "stream": "stdout",
       "text": [
        "Any[525"
       ]
      },
      {
       "output_type": "stream",
       "stream": "stdout",
       "text": [
        ".84 100.0 \"3:35pm\"\n",
        "    125.68 100.0 \"3:35pm\"]\n"
       ]
      },
      {
       "output_type": "stream",
       "stream": "stdout",
       "text": [
        "Any[525.84 100.0 \"3:35pm\"\n",
        "    125.68 100.0 \"3:35pm\"]\n"
       ]
      }
     ],
     "prompt_number": 11
    },
    {
     "cell_type": "code",
     "collapsed": false,
     "input": [],
     "language": "python",
     "metadata": {},
     "outputs": [],
     "prompt_number": 7
    },
    {
     "cell_type": "code",
     "collapsed": false,
     "input": [],
     "language": "python",
     "metadata": {},
     "outputs": [],
     "prompt_number": 8
    },
    {
     "cell_type": "code",
     "collapsed": false,
     "input": [],
     "language": "python",
     "metadata": {},
     "outputs": []
    }
   ],
   "metadata": {}
  }
 ]
}